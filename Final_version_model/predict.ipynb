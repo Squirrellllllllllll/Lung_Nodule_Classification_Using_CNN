{
 "cells": [
  {
   "cell_type": "code",
   "execution_count": 1,
   "metadata": {},
   "outputs": [],
   "source": [
    "import torch\n",
    "import torch.nn as nn\n",
    "from torchvision import models, transforms\n",
    "from PIL import Image\n",
    "\n",
    "model = models.mobilenet_v3_large(weights=None)\n",
    "\n",
    "# Thay thế lớp cuối cùng của mô hình để phù hợp với số lớp đầu ra mới\n",
    "num_ftrs = model.classifier[3].in_features\n",
    "model.classifier[3] = nn.Linear(num_ftrs, 2)\n",
    "model.load_state_dict(torch.load(\"MobileV3.pth\", map_location='cpu'))\n",
    "# model = model.to('cuda')\n",
    "model.eval()\n",
    "\n",
    "def load_and_preprocess_image(image_path):\n",
    "    img = Image.open(image_path) # Mở ảnh từ đường dẫn\n",
    "\n",
    "    transform = transforms.Compose([\n",
    "        transforms.Resize((224, 224)), # Thay đổi kích thước ảnh thành 224x224\n",
    "        transforms.ToTensor(), # Chuyển đổi ảnh thành tensor\n",
    "        transforms.Normalize((0.5,), (0.5,))\n",
    "    ])\n",
    "\n",
    "    img = transform(img)\n",
    "    img = img.repeat(3, 1, 1)\n",
    "    img = img.unsqueeze(0) #thêm một chiều batch\n",
    "\n",
    "    return img\n",
    "\n",
    "class_names = ['nodule', 'non_nodule']\n",
    "\n",
    "def process():\n",
    "    image_path = input()\n",
    "    input_image = load_and_preprocess_image(image_path)\n",
    "    # print(input_image.size())\n",
    "\n",
    "    with torch.no_grad():\n",
    "        output = model(input_image)\n",
    "\n",
    "    _, predicted = output.max(dim=1)\n",
    "    print(class_names[predicted])"
   ]
  },
  {
   "cell_type": "code",
   "execution_count": 4,
   "metadata": {},
   "outputs": [
    {
     "name": "stdout",
     "output_type": "stream",
     "text": [
      "non_nodule\n"
     ]
    }
   ],
   "source": [
    "process()"
   ]
  }
 ],
 "metadata": {
  "kernelspec": {
   "display_name": "Python 3",
   "language": "python",
   "name": "python3"
  },
  "language_info": {
   "codemirror_mode": {
    "name": "ipython",
    "version": 3
   },
   "file_extension": ".py",
   "mimetype": "text/x-python",
   "name": "python",
   "nbconvert_exporter": "python",
   "pygments_lexer": "ipython3",
   "version": "3.11.4"
  }
 },
 "nbformat": 4,
 "nbformat_minor": 2
}
